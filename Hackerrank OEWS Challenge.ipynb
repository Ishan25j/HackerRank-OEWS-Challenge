{
  "cells": [
    {
      "cell_type": "markdown",
      "id": "62e5090e-c6bb-4a5f-9920-007f3429eae3",
      "metadata": {
        "id": "62e5090e-c6bb-4a5f-9920-007f3429eae3"
      },
      "source": [
        "It is a sample notebook for illustration purposes only. We recommend including the below cell with important candidate instructions.\n",
        "You may need to update the OS and package versions based on the current environment."
      ]
    },
    {
      "cell_type": "markdown",
      "id": "fd96a711-fffe-46d0-8dbd-7717067fe42c",
      "metadata": {
        "id": "fd96a711-fffe-46d0-8dbd-7717067fe42c",
        "tags": []
      },
      "source": [
        "### Environment\n",
        "Ubuntu 22.04 LTS which includes **Python 3.9.12** and utilities *curl*, *git*, *vim*, *unzip*, *wget*, and *zip*. There is no *GPU* support.\n",
        "\n",
        "The IPython Kernel allows you to execute Python code in the Notebook cell and Python console.\n",
        "\n",
        "### Installing packages\n",
        "- Run `!mamba list \"package_name\"` command to check the package installation status. For example,\n",
        "\n",
        "```python\n",
        "!mamba list numpy\n",
        "\"\"\"\n",
        "# packages in environment at /opt/conda:\n",
        "#\n",
        "# Name                    Version                   Build  Channel\n",
        "numpy                     1.21.6           py39h18676bf_0    conda-forge\n",
        "\"\"\"\n",
        "```\n",
        "\n",
        "    You can also try importing the package.\n",
        "\n",
        "- Run the `!mamba install \"package_name\"` to install a package\n",
        "\n",
        "### Excluding large files\n",
        "HackerRank rejects any submission larger than **20MB**. Therefore, you must exclude any large files by adding these to the *.gitignore* file.\n",
        "You can **Submit** code to validate the status of your submission."
      ]
    },
    {
      "cell_type": "markdown",
      "id": "de14c970",
      "metadata": {
        "id": "de14c970"
      },
      "source": [
        "## Introduction\n",
        "\n",
        "The Occupational Employment and Wage Statistics (OEWS) program produces employment and wage estimates annually for nearly 800 occupations. These estimates are available for the nation as a whole, for individual states, and for metropolitan and nonmetropolitan areas; national occupational estimates for specific industries are also available.\n",
        "\n",
        "## Problem\n",
        "\n",
        "The data used in this problem is a subset of the OEWS data, which include the 10-th percentile, 25-th percentile, 50-th percentile (a.k.a median), 75-th percentile, and 90-th percentile of the annual salary of a given combination of states, industries, and occupations.\n",
        "\n",
        "One needs to use the data in _train.csv_ to train a machine learning model to predict the 10-th, 25-th, 50-th, 75-th and 90-th percentiles of the given combinations in _submission.csv_.\n",
        "\n",
        "## Data\n",
        "\n",
        "### Independent Variables\n",
        "\n",
        "There are three independent variable columns:\n",
        "- PRIM_STATE\n",
        "- NAICS_TITLE\n",
        "- OCC_TITLE\n",
        "\n",
        "indicating the state, industry, and occupation.\n",
        "\n",
        "NOTE:\n",
        "- In the _PRIM_STATE_ variable, each category indicates a state postal abbreviation (like \"_CA_\", \"_TX_\", etc.) or \"_U.S_\" as the whole United States. When _PRIM_STATE_ is \"_U.S_\", it means the percentiles are aggregated across all the states.\n",
        "- In thes _NAICS_TITLE_, each category indicates an industry sector name (like \"_Retail Trade_\", \"_Manufacturing_\") or \"_Cross-industry_\". When _NAICS_TITLE_ is \"_Cross-industry_\", it means the percentiles are aggregated across all the industries.\n",
        "\n",
        "### Target Variables\n",
        "\n",
        "There are 5 dependent (target) variable columns:\n",
        "- A_PCT10\n",
        "- A_PCT25\n",
        "- A_MEDIAN\n",
        "- A_PCT75\n",
        "- A_PCT90\n",
        "\n",
        "indicating the 10-th percentile, 25-th percentile, median, 75-th percentile, 90-th percentile of the annual base salary given the state, industry, and occupation information.\n",
        "\n",
        "**IMPORTANT**: the percentiles should follow an increasing order. Namely, the 10-th percentile is less than (<) the 25-th percentile, the 25-th percentile is less than (<) the 50-th percentile, etc.\n",
        "\n",
        "## Deliverables\n",
        "\n",
        "### Submit a Well commented Jupyter Notebook\n",
        "\n",
        "Explore the data, make visualizations, and generate new features if required. Make appropriate plots, annotate the notebook with markdowns and explain necessary inferences. A person should be able to read the notebook and understand the steps taken as well as the reasoning behind them. The solution will be graded on the basis of the usage of effective visualizations to convey the analysis and the modeling process.\n",
        "\n",
        "\n",
        "### Submit _submission.csv_\n",
        "\n",
        "In the given _submission.csv_, values in the \"A_PCT10\", \"A_PCT25\", \"A_MEDIAN\", \"A_PCT75\", and \"A_PCT90\" columns are constants, and you need to replace them with your model predictions.\n",
        "\n",
        "**IMPORTANT**:\n",
        "- please do not change the header given in _submission.csv_, or your predictions may not be evaluated correctly.\n",
        "- Your Jupyter Notebook should be able to generate your submitted predictions.\n",
        "\n",
        "\n",
        "\n",
        "## Evaluation Metric\n",
        "\n",
        "The model performance is evaluated by the mean normalized weighted absolute error (MNWAE) defined as the following:\n",
        "$$ MNWAE = \\frac{1}{n} \\sum_{i=1}^{n} \\sum_{j \\in \\{10, 25, 50, 75, 90\\}} w_j \\times \\frac{|y_{i,j}-z_{i,j}|}{z_{i,j}}$$\n",
        "where $y_{i,j}$ and $z_{i,j}$ are the model estimation and the ground truth of the $i$-th row and $j$-th percentile, and\n",
        "$$ w_{10} = w_{90} = 0.1, $$\n",
        "$$ w_{25} = w_{75} = 0.2, $$\n",
        "$$ w_{50} = 0.4 $$\n",
        "\n",
        "For example, if\n",
        "\n",
        "actual percentiles = [10000, 30000, 60000, 80000, 100000],\n",
        "\n",
        "predicted percentiles = [11000, 33000, 54000, 88000, 120000],\n",
        "\n",
        "normalized weighted absolute error = 0.1*|11000-10000|/10000+0.2*|33000-30000|/30000+0.4*|54000-60000|/60000+0.2*|88000-80000|/80000+0.1*|120000-100000|/100000 = 0.11\n",
        "\n",
        "**IMPORTANT**: if the predicted percentiles in any row do not follow an increasing order, all the predictions will be considered as invalid."
      ]
    },
    {
      "cell_type": "markdown",
      "id": "19879c97",
      "metadata": {
        "id": "19879c97"
      },
      "source": [
        "## Solution .."
      ]
    },
    {
      "cell_type": "code",
      "execution_count": null,
      "id": "a107f167-f73a-4842-ba9b-7189e13a3a95",
      "metadata": {
        "id": "a107f167-f73a-4842-ba9b-7189e13a3a95"
      },
      "outputs": [],
      "source": [
        "# Import the `pandas` library to load the dataset\n",
        "import pandas as pd\n",
        "pd.options.display.float_format = '{:,.3f}'.format\n",
        "import numpy as np\n",
        "from category_encoders import TargetEncoder\n",
        "import category_encoders as ce"
      ]
    },
    {
      "cell_type": "code",
      "execution_count": null,
      "id": "0f568cf6",
      "metadata": {
        "id": "0f568cf6"
      },
      "outputs": [],
      "source": [
        "df_train = pd.read_csv('train.csv')"
      ]
    },
    {
      "cell_type": "code",
      "execution_count": null,
      "id": "06802137",
      "metadata": {
        "id": "06802137",
        "outputId": "18fb9f8a-774d-4891-9716-23ef2ba6c9cb"
      },
      "outputs": [
        {
          "data": {
            "text/html": [
              "<div>\n",
              "<style scoped>\n",
              "    .dataframe tbody tr th:only-of-type {\n",
              "        vertical-align: middle;\n",
              "    }\n",
              "\n",
              "    .dataframe tbody tr th {\n",
              "        vertical-align: top;\n",
              "    }\n",
              "\n",
              "    .dataframe thead th {\n",
              "        text-align: right;\n",
              "    }\n",
              "</style>\n",
              "<table border=\"1\" class=\"dataframe\">\n",
              "  <thead>\n",
              "    <tr style=\"text-align: right;\">\n",
              "      <th></th>\n",
              "      <th>PRIM_STATE</th>\n",
              "      <th>NAICS_TITLE</th>\n",
              "      <th>OCC_TITLE</th>\n",
              "      <th>A_PCT10</th>\n",
              "      <th>A_PCT25</th>\n",
              "      <th>A_MEDIAN</th>\n",
              "      <th>A_PCT75</th>\n",
              "      <th>A_PCT90</th>\n",
              "    </tr>\n",
              "  </thead>\n",
              "  <tbody>\n",
              "    <tr>\n",
              "      <th>0</th>\n",
              "      <td>US</td>\n",
              "      <td>Arts, Entertainment, and Recreation</td>\n",
              "      <td>Supervisors of Transportation and Material Mov...</td>\n",
              "      <td>32,350.000</td>\n",
              "      <td>40,200.000</td>\n",
              "      <td>50,790.000</td>\n",
              "      <td>62,560.000</td>\n",
              "      <td>78,520.000</td>\n",
              "    </tr>\n",
              "    <tr>\n",
              "      <th>1</th>\n",
              "      <td>US</td>\n",
              "      <td>Mining, Quarrying, and Oil and Gas Extraction</td>\n",
              "      <td>Sales Representatives, Wholesale and Manufactu...</td>\n",
              "      <td>47,860.000</td>\n",
              "      <td>61,600.000</td>\n",
              "      <td>87,810.000</td>\n",
              "      <td>107,460.000</td>\n",
              "      <td>153,600.000</td>\n",
              "    </tr>\n",
              "    <tr>\n",
              "      <th>2</th>\n",
              "      <td>US</td>\n",
              "      <td>Finance and Insurance</td>\n",
              "      <td>Physical Scientists</td>\n",
              "      <td>59,240.000</td>\n",
              "      <td>63,050.000</td>\n",
              "      <td>89,740.000</td>\n",
              "      <td>126,320.000</td>\n",
              "      <td>149,070.000</td>\n",
              "    </tr>\n",
              "    <tr>\n",
              "      <th>3</th>\n",
              "      <td>US</td>\n",
              "      <td>Administrative and Support and Waste Managemen...</td>\n",
              "      <td>Architects, Surveyors, and Cartographers</td>\n",
              "      <td>37,320.000</td>\n",
              "      <td>47,630.000</td>\n",
              "      <td>60,550.000</td>\n",
              "      <td>77,450.000</td>\n",
              "      <td>98,990.000</td>\n",
              "    </tr>\n",
              "    <tr>\n",
              "      <th>4</th>\n",
              "      <td>US</td>\n",
              "      <td>Manufacturing</td>\n",
              "      <td>Supervisors of Protective Service Workers</td>\n",
              "      <td>50,130.000</td>\n",
              "      <td>63,840.000</td>\n",
              "      <td>81,770.000</td>\n",
              "      <td>104,530.000</td>\n",
              "      <td>133,180.000</td>\n",
              "    </tr>\n",
              "  </tbody>\n",
              "</table>\n",
              "</div>"
            ],
            "text/plain": [
              "  PRIM_STATE                                        NAICS_TITLE  \\\n",
              "0         US                Arts, Entertainment, and Recreation   \n",
              "1         US      Mining, Quarrying, and Oil and Gas Extraction   \n",
              "2         US                              Finance and Insurance   \n",
              "3         US  Administrative and Support and Waste Managemen...   \n",
              "4         US                                      Manufacturing   \n",
              "\n",
              "                                           OCC_TITLE    A_PCT10    A_PCT25  \\\n",
              "0  Supervisors of Transportation and Material Mov... 32,350.000 40,200.000   \n",
              "1  Sales Representatives, Wholesale and Manufactu... 47,860.000 61,600.000   \n",
              "2                                Physical Scientists 59,240.000 63,050.000   \n",
              "3           Architects, Surveyors, and Cartographers 37,320.000 47,630.000   \n",
              "4          Supervisors of Protective Service Workers 50,130.000 63,840.000   \n",
              "\n",
              "    A_MEDIAN     A_PCT75     A_PCT90  \n",
              "0 50,790.000  62,560.000  78,520.000  \n",
              "1 87,810.000 107,460.000 153,600.000  \n",
              "2 89,740.000 126,320.000 149,070.000  \n",
              "3 60,550.000  77,450.000  98,990.000  \n",
              "4 81,770.000 104,530.000 133,180.000  "
            ]
          },
          "execution_count": 3,
          "metadata": {},
          "output_type": "execute_result"
        }
      ],
      "source": [
        "df_train.head()"
      ]
    },
    {
      "cell_type": "markdown",
      "id": "f1f55c26",
      "metadata": {
        "id": "f1f55c26"
      },
      "source": [
        "### Checking for Nan or Null Values in Dataset"
      ]
    },
    {
      "cell_type": "code",
      "execution_count": null,
      "id": "3a7e6b06",
      "metadata": {
        "id": "3a7e6b06",
        "outputId": "a31e8c02-df27-4ffd-dd45-16e19ce67c61"
      },
      "outputs": [
        {
          "data": {
            "text/plain": [
              "PRIM_STATE       0\n",
              "NAICS_TITLE      0\n",
              "OCC_TITLE        0\n",
              "A_PCT10          0\n",
              "A_PCT25          0\n",
              "A_MEDIAN         0\n",
              "A_PCT75         30\n",
              "A_PCT90        139\n",
              "dtype: int64"
            ]
          },
          "execution_count": 4,
          "metadata": {},
          "output_type": "execute_result"
        }
      ],
      "source": [
        "df_train.isnull().sum()"
      ]
    },
    {
      "cell_type": "markdown",
      "id": "c7e0b3e1",
      "metadata": {
        "id": "c7e0b3e1"
      },
      "source": [
        "Since, A_PCT75 and A_PCT90 contains nulls Value, we need to replace it with some numerial values in order to train a model\n",
        "\n",
        "### Performing Imputation\n",
        "\n",
        "Imputation is used to replace all the null or NaN values with numerical data which is mostly a median or mean"
      ]
    },
    {
      "cell_type": "code",
      "execution_count": null,
      "id": "c696c036",
      "metadata": {
        "id": "c696c036"
      },
      "outputs": [],
      "source": [
        "from sklearn.impute import SimpleImputer\n",
        "imputer = SimpleImputer(missing_values=np.nan, strategy='median')\n",
        "imputer.fit(df_train[[\"A_PCT75\", \"A_PCT90\"]]) \n",
        "df_train[[\"A_PCT75\", \"A_PCT90\"]] = imputer.transform(df_train[[\"A_PCT75\", \"A_PCT90\"]])"
      ]
    },
    {
      "cell_type": "code",
      "execution_count": null,
      "id": "e0fc52b0",
      "metadata": {
        "id": "e0fc52b0",
        "outputId": "18a9e000-8dbb-439e-b4d8-d9813d02b330"
      },
      "outputs": [
        {
          "name": "stdout",
          "output_type": "stream",
          "text": [
            "PRIM_STATE  :  52  Labels\n",
            "NAICS_TITLE  :  21  Labels\n",
            "OCC_TITLE  :  116  Labels\n"
          ]
        }
      ],
      "source": [
        "i = 1\n",
        "for col in df_train.columns:\n",
        "    if i <= 3:\n",
        "        print(col, ' : ', len(df_train[col].unique()), ' Labels')\n",
        "        i += 1\n",
        "    else:\n",
        "        break"
      ]
    },
    {
      "cell_type": "markdown",
      "id": "ba276ecf",
      "metadata": {
        "id": "ba276ecf"
      },
      "source": [
        "There are multiple categorial values which are needed to be transform into numerical value. For this mainly One Hot Encoding is used widely. However, using One Hot Encoding, the dimenisionality of the dataset would increased drastically which would effect model performance. Further, Frequency, Count or Label Encoding are also not the best choose as it would create unwanted realtionship between data attributes. So, for this dataset, Leave One Out Encoder which is one form of Target Encoding would be the best choice.\n"
      ]
    },
    {
      "cell_type": "markdown",
      "id": "58c93471",
      "metadata": {
        "id": "58c93471"
      },
      "source": [
        "### Encoding Categorial Independents Attributes using Leave One Out Encoder\n",
        "- The dataset consist of three Nominal Categorial Attributes which requires to be transform into numerial before passing to the model for training.\n",
        "- Here, Leave One Out Encoder is used to encode a categorial data by performing target encoding by leaving out the current row while assigning values to each label.\n",
        "- For Target, A_Median is taken which consist of median value amongs all 5 Target Variables. We could also create new feature Target Mean which is the mean of all 5 Target Variable by using \n",
        "  \n",
        "  `a_mean = df_train.iloc[:, 3:8].values.mean(axis=1)`. However, the mean is vunerable to outliers and hence, the performance of the model would decrease if mean is used rather than median "
      ]
    },
    {
      "cell_type": "code",
      "execution_count": null,
      "id": "6a1aadc7",
      "metadata": {
        "id": "6a1aadc7",
        "outputId": "ea6bd276-58e0-46e5-df8f-ff38213e9d43"
      },
      "outputs": [
        {
          "name": "stdout",
          "output_type": "stream",
          "text": [
            "Shape => Rows: 2297 and Columns: 3\n"
          ]
        },
        {
          "data": {
            "text/html": [
              "<div>\n",
              "<style scoped>\n",
              "    .dataframe tbody tr th:only-of-type {\n",
              "        vertical-align: middle;\n",
              "    }\n",
              "\n",
              "    .dataframe tbody tr th {\n",
              "        vertical-align: top;\n",
              "    }\n",
              "\n",
              "    .dataframe thead th {\n",
              "        text-align: right;\n",
              "    }\n",
              "</style>\n",
              "<table border=\"1\" class=\"dataframe\">\n",
              "  <thead>\n",
              "    <tr style=\"text-align: right;\">\n",
              "      <th></th>\n",
              "      <th>PRIM_STATE</th>\n",
              "      <th>NAICS_TITLE</th>\n",
              "      <th>OCC_TITLE</th>\n",
              "    </tr>\n",
              "  </thead>\n",
              "  <tbody>\n",
              "    <tr>\n",
              "      <th>0</th>\n",
              "      <td>57,977.842</td>\n",
              "      <td>46,798.667</td>\n",
              "      <td>57,797.000</td>\n",
              "    </tr>\n",
              "    <tr>\n",
              "      <th>1</th>\n",
              "      <td>57,953.113</td>\n",
              "      <td>74,426.667</td>\n",
              "      <td>65,985.000</td>\n",
              "    </tr>\n",
              "    <tr>\n",
              "      <th>2</th>\n",
              "      <td>57,951.824</td>\n",
              "      <td>72,464.857</td>\n",
              "      <td>90,086.364</td>\n",
              "    </tr>\n",
              "    <tr>\n",
              "      <th>3</th>\n",
              "      <td>57,971.323</td>\n",
              "      <td>51,524.487</td>\n",
              "      <td>79,007.692</td>\n",
              "    </tr>\n",
              "    <tr>\n",
              "      <th>4</th>\n",
              "      <td>57,957.148</td>\n",
              "      <td>63,210.000</td>\n",
              "      <td>66,091.538</td>\n",
              "    </tr>\n",
              "  </tbody>\n",
              "</table>\n",
              "</div>"
            ],
            "text/plain": [
              "   PRIM_STATE  NAICS_TITLE  OCC_TITLE\n",
              "0  57,977.842   46,798.667 57,797.000\n",
              "1  57,953.113   74,426.667 65,985.000\n",
              "2  57,951.824   72,464.857 90,086.364\n",
              "3  57,971.323   51,524.487 79,007.692\n",
              "4  57,957.148   63,210.000 66,091.538"
            ]
          },
          "execution_count": 7,
          "metadata": {},
          "output_type": "execute_result"
        }
      ],
      "source": [
        "class EncodeCatData:\n",
        "    def __init__(self, prim_state, naics_title, occ_title, a_median):\n",
        "        self.encoderp = ce.LeaveOneOutEncoder()\n",
        "        self.encodern = ce.LeaveOneOutEncoder()\n",
        "        self.encodert = ce.LeaveOneOutEncoder()\n",
        "        self.prim_state_encode = self.encoderp.fit_transform(prim_state, a_median)\n",
        "        self.naics_title_encode = self.encodern.fit_transform(naics_title, a_median)\n",
        "        self.occ_title_encode = self.encodert.fit_transform(occ_title, a_median)\n",
        "    \n",
        "    def ReturnFitTransformData(self):\n",
        "        return pd.concat([self.prim_state_encode, self.naics_title_encode, self.occ_title_encode], axis=1)\n",
        "    \n",
        "    def ReturnTransformData(self, prim_state, naics_title, occ_title):\n",
        "        df_sub_PS = self.encoderp.transform(prim_state)\n",
        "        df_sub_NT = self.encodern.transform(naics_title)\n",
        "        df_sub_OT = self.encodert.transform(occ_title)\n",
        "        return pd.concat([df_sub_PS, df_sub_NT, df_sub_OT], axis=1)\n",
        "\n",
        "encoder = EncodeCatData(df_train['PRIM_STATE'], df_train['NAICS_TITLE'], df_train['OCC_TITLE'], df_train['A_MEDIAN'])\n",
        "df_train_X = encoder.ReturnFitTransformData()\n",
        "print('Shape => Rows:', df_train_X.shape[0], 'and Columns:', df_train_X.shape[1])\n",
        "df_train_X.head(5)\n"
      ]
    },
    {
      "cell_type": "markdown",
      "id": "e4d5fe36",
      "metadata": {
        "id": "e4d5fe36"
      },
      "source": [
        "Now, Assigning the Independent Attributes to Variable 'X' and Dependent (Target) Attributes to Varibale 'y'"
      ]
    },
    {
      "cell_type": "code",
      "execution_count": null,
      "id": "7388fdf2",
      "metadata": {
        "id": "7388fdf2"
      },
      "outputs": [],
      "source": [
        "X = df_train_X.values\n",
        "y = df_train.iloc[:, 3:8].values"
      ]
    },
    {
      "cell_type": "markdown",
      "id": "d9195306",
      "metadata": {
        "id": "d9195306"
      },
      "source": [
        "Splitting the dataset for training and testing the model"
      ]
    },
    {
      "cell_type": "code",
      "execution_count": null,
      "id": "42b58e6d",
      "metadata": {
        "id": "42b58e6d"
      },
      "outputs": [],
      "source": [
        "from sklearn.model_selection import train_test_split\n",
        "X_train, X_test, y_train, y_test = train_test_split(X, y, test_size = 0.2, random_state = 32)"
      ]
    },
    {
      "cell_type": "markdown",
      "id": "132c3d01",
      "metadata": {
        "id": "132c3d01"
      },
      "source": [
        "The correlation between different indepedent attributes could be seen below. The high value show higher correlation between attributes"
      ]
    },
    {
      "cell_type": "code",
      "execution_count": null,
      "id": "9edf9f8a",
      "metadata": {
        "id": "9edf9f8a",
        "outputId": "5750024d-96b9-4dfb-d452-10f4229d939e"
      },
      "outputs": [
        {
          "data": {
            "image/png": "[encoded data removed]",
            "text/plain": [
              "<Figure size 1080x504 with 2 Axes>"
            ]
          },
          "metadata": {
            "needs_background": "light"
          },
          "output_type": "display_data"
        }
      ],
      "source": [
        "import seaborn as sns\n",
        "import mglearn\n",
        "import matplotlib.pyplot as plt\n",
        "plt.figure(figsize = (15, 7))\n",
        "sns.heatmap(df_train_X[[\"PRIM_STATE\", \"NAICS_TITLE\", \"OCC_TITLE\"]].corr(), annot=True, cmap='viridis', linewidths=.5)\n",
        "plt.show()"
      ]
    },
    {
      "cell_type": "markdown",
      "id": "87bd1755",
      "metadata": {
        "id": "87bd1755"
      },
      "source": [
        "Since, the values of correlation are small, no need to reduce the dimensions using reduction techniques such as PCA, LDA, AutoEncoders, etc..."
      ]
    },
    {
      "cell_type": "markdown",
      "id": "a1433ab0",
      "metadata": {
        "id": "a1433ab0"
      },
      "source": [
        "### Training the Random Forest Regressor Model"
      ]
    },
    {
      "cell_type": "markdown",
      "id": "a4a1fc24",
      "metadata": {
        "id": "a4a1fc24"
      },
      "source": [
        "For Training, Random Forest Regressor is used to determine five target varibles using 3 categorical independent attributes.\n",
        "\n",
        "Random Forest Regressor consist of multiple decision trees combined together to determine the final outcome by aggregating different decision trees. \n",
        "\n",
        "For this dataset, Random Forest Regressor is chosen as it lower the resultant high variance of decision tree which is a problem with individual Decision tree. \n",
        "\n",
        "Here, the process named Bagging take place where, the input is boostrap to individual decision trees and then the outcome of individual decision tree is aggregated to the targeted outcome.\n",
        "\n",
        "The diagram of Random Forest Model is shown below:\n",
        "\n",
        "![image](img/RandomForestRegressor.png)\n",
        "\n",
        "(Image Source: https://www.geeksforgeeks.org/random-forest-regression-in-python/)\n",
        "\n",
        "For Hyperparameter tuning, GridSearchCV is used that tries out different specifed combinations to return the best estimator for training the model.\n",
        "\n",
        "```python\n",
        "from sklearn.ensemble import RandomForestRegressor\n",
        "from sklearn.model_selection import GridSearchCV\n",
        "\n",
        "param_grid = {\n",
        "    'bootstrap': [True],\n",
        "    'max_depth': [3, 4, 5, 6, 7, 8, 9, 10, 20, 30, 40, 50],\n",
        "    'max_features': [2, 3, 4, 5, 6, 7, 8, 9, 10],\n",
        "    'min_samples_leaf': [3, 4, 5, 6, 7],\n",
        "    'min_samples_split': [3, 4, 5, 6, 7, 8, 10, 12, 14, 16],\n",
        "    'n_estimators': [50, 75, 100, 110, 125, 150, 160, 175, 200, 500, 750, 1000]\n",
        "}\n",
        "\n",
        "rf = RandomForestRegressor(random_state=12)\n",
        "\n",
        "grid_search = GridSearchCV(estimator = rf, param_grid = param_grid, cv = 3, n_jobs = -1, verbose = 0)\n",
        "grid_search.fit(X_train, y_train)\n",
        "\n",
        "```\n",
        "For determining the best estimator\n",
        "```python\n",
        "best_grid = grid_search.best_estimator_\n",
        "best_grid\n",
        "```\n",
        "Output:\n",
        "> RandomForestRegressor(max_depth=20, max_features=2, min_samples_leaf=3, min_samples_split=3, n_estimators=150, random_state=12)\n",
        "\n",
        "Another possible Hyperparameter that would provide better result are\n",
        "\n",
        "```python\n",
        "model = RandomForestRegressor(n_estimators=1000, random_state=12)\n",
        "model.fit(X_train, y_train)\n",
        "```\n",
        "which gives mean evalution score of 0.5436, however, it takes much longer (3.7sec on local device) to train and predict the result.\n",
        "\n",
        "and \n",
        "\n",
        "```python\n",
        "model = RandomForestRegressor(max_depth=20, max_features=2, min_samples_leaf=3,\n",
        "                      min_samples_split=8, n_estimators=150, random_state=12)\n",
        "```\n",
        "which is another alternative hyperparameter."
      ]
    },
    {
      "cell_type": "code",
      "execution_count": null,
      "id": "5a5716bd",
      "metadata": {
        "id": "5a5716bd",
        "outputId": "b019993a-e782-4930-b03a-71aef294c109"
      },
      "outputs": [
        {
          "data": {
            "text/plain": [
              "RandomForestRegressor(max_depth=20, max_features=2, min_samples_leaf=3,\n",
              "                      min_samples_split=3, n_estimators=150, random_state=12)"
            ]
          },
          "execution_count": 11,
          "metadata": {},
          "output_type": "execute_result"
        }
      ],
      "source": [
        "from sklearn.ensemble import RandomForestRegressor\n",
        "\n",
        "model = RandomForestRegressor(max_depth=20, max_features=2, min_samples_leaf=3,\n",
        "                      min_samples_split=3, n_estimators=150, random_state=12)\n",
        "model.fit(X_train, y_train)"
      ]
    },
    {
      "cell_type": "markdown",
      "id": "12a5368b",
      "metadata": {
        "id": "12a5368b"
      },
      "source": [
        "### Evaluating the Model using Mean Normalized Weighted Absolute Error (MNWAE)"
      ]
    },
    {
      "cell_type": "code",
      "execution_count": null,
      "id": "1454e4b2",
      "metadata": {
        "id": "1454e4b2",
        "outputId": "d6c5abd5-7fd7-4557-ee7a-f4f60d2350a9"
      },
      "outputs": [
        {
          "name": "stdout",
          "output_type": "stream",
          "text": [
            "Max Evaluation Score:  0.4118979242168036\n",
            "Min Evaluation Score:  0.0035646601301991274\n",
            "Avg Evaluation Score:  0.0558426822231227\n",
            "Median Evaluation Score:  0.040783613423958864\n"
          ]
        }
      ],
      "source": [
        "def EvalutionScore(y_pred, y_true):\n",
        "    eval = []\n",
        "    coeff = (0.1, 0.2, 0.4, 0.2, 0.1)\n",
        "    for i in range(y_pred.shape[0]):\n",
        "        score = 0\n",
        "        for j in range(5):\n",
        "            score += (coeff[j]*abs(y_pred[i][j] - y_true[i][j])/y_true[i][j])\n",
        "        eval.append(score)\n",
        "    return eval, max(eval), min(eval), np.average(eval), np.median(eval), \n",
        "\n",
        "y_pred = model.predict(X_test)\n",
        "print('Max Evaluation Score: ', EvalutionScore(y_pred, y_test)[1])    \n",
        "print('Min Evaluation Score: ', EvalutionScore(y_pred, y_test)[2])    \n",
        "print('Avg Evaluation Score: ', EvalutionScore(y_pred, y_test)[3])    \n",
        "print('Median Evaluation Score: ', EvalutionScore(y_pred, y_test)[4])    "
      ]
    },
    {
      "cell_type": "markdown",
      "id": "0f391bd8",
      "metadata": {
        "id": "0f391bd8"
      },
      "source": [
        "### Visualizing the Target Variable (Salaries) Based on Predicted and True Values\n",
        "The below given Graph shows the differences between the real (True) values and the predicted values in salaries.\n",
        "Since, we train model on A_Median Attribute, we are avoiding the outliers which could be seen if the average of target attributes is used rather than Median Values."
      ]
    },
    {
      "cell_type": "code",
      "execution_count": null,
      "id": "37270931",
      "metadata": {
        "id": "37270931",
        "outputId": "dcb9977d-d747-4297-89bf-d4e1fb1c9f2c"
      },
      "outputs": [
        {
          "data": {
            "image/png": "[encoded data removed]",
            "text/plain": [
              "<Figure size 2016x288 with 5 Axes>"
            ]
          },
          "metadata": {
            "needs_background": "light"
          },
          "output_type": "display_data"
        }
      ],
      "source": [
        "lb = (10, 25, 50, 75, 90)\n",
        "fig, ax = plt.subplots(1,5, figsize=(28, 4))\n",
        "\n",
        "for i in range(5):\n",
        "    ax[i].scatter(y_pred[:, i], y_test[:, i], color=mglearn.cm3(1), alpha=.5, label=\"Predicted Values\")\n",
        "    ax[i].plot(y_test[:, i], y_test[:, i], color=mglearn.cm3(0), alpha=.5, label=\"True Values\")\n",
        "    # print(lb[i])\n",
        "    ax[i].set_title('{x}th Percentile of Salaries'.format(x = lb[i]))\n",
        "    ax[i].set_xlabel('Predicted Value')\n",
        "    ax[i].set_ylabel('True Value')\n",
        "    ax[i].legend(loc=\"best\")\n",
        "    # plt.figure(figsize = (10, 10))\n",
        "    # plt.subplot(2, 3, i+1)\n",
        "fig.tight_layout()"
      ]
    },
    {
      "cell_type": "markdown",
      "id": "3f42733e",
      "metadata": {
        "id": "3f42733e"
      },
      "source": [
        "### Predicting the Submission Data"
      ]
    },
    {
      "cell_type": "code",
      "execution_count": null,
      "id": "6bbd881c",
      "metadata": {
        "id": "6bbd881c",
        "outputId": "46a9e64c-e2aa-49df-d1c6-2e39ca4477bf"
      },
      "outputs": [
        {
          "data": {
            "text/html": [
              "<div>\n",
              "<style scoped>\n",
              "    .dataframe tbody tr th:only-of-type {\n",
              "        vertical-align: middle;\n",
              "    }\n",
              "\n",
              "    .dataframe tbody tr th {\n",
              "        vertical-align: top;\n",
              "    }\n",
              "\n",
              "    .dataframe thead th {\n",
              "        text-align: right;\n",
              "    }\n",
              "</style>\n",
              "<table border=\"1\" class=\"dataframe\">\n",
              "  <thead>\n",
              "    <tr style=\"text-align: right;\">\n",
              "      <th></th>\n",
              "      <th>Unnamed: 0</th>\n",
              "      <th>Unnamed: 0.1</th>\n",
              "      <th>PRIM_STATE</th>\n",
              "      <th>NAICS_TITLE</th>\n",
              "      <th>OCC_TITLE</th>\n",
              "      <th>A_PCT10</th>\n",
              "      <th>A_PCT25</th>\n",
              "      <th>A_MEDIAN</th>\n",
              "      <th>A_PCT75</th>\n",
              "      <th>A_PCT90</th>\n",
              "    </tr>\n",
              "  </thead>\n",
              "  <tbody>\n",
              "    <tr>\n",
              "      <th>0</th>\n",
              "      <td>0</td>\n",
              "      <td>0</td>\n",
              "      <td>US</td>\n",
              "      <td>Accommodation and Food Services</td>\n",
              "      <td>Other Production Occupations</td>\n",
              "      <td>32,243.239</td>\n",
              "      <td>40,746.801</td>\n",
              "      <td>55,730.007</td>\n",
              "      <td>71,501.710</td>\n",
              "      <td>92,225.616</td>\n",
              "    </tr>\n",
              "    <tr>\n",
              "      <th>1</th>\n",
              "      <td>1</td>\n",
              "      <td>1</td>\n",
              "      <td>NE</td>\n",
              "      <td>Cross-industry</td>\n",
              "      <td>Arts, Design, Entertainment, Sports, and Media...</td>\n",
              "      <td>28,177.123</td>\n",
              "      <td>34,220.980</td>\n",
              "      <td>45,491.970</td>\n",
              "      <td>62,500.150</td>\n",
              "      <td>80,586.798</td>\n",
              "    </tr>\n",
              "    <tr>\n",
              "      <th>2</th>\n",
              "      <td>2</td>\n",
              "      <td>2</td>\n",
              "      <td>US</td>\n",
              "      <td>Manufacturing</td>\n",
              "      <td>Construction and Extraction Occupations</td>\n",
              "      <td>33,951.418</td>\n",
              "      <td>42,953.995</td>\n",
              "      <td>58,035.727</td>\n",
              "      <td>73,297.065</td>\n",
              "      <td>88,839.766</td>\n",
              "    </tr>\n",
              "    <tr>\n",
              "      <th>3</th>\n",
              "      <td>3</td>\n",
              "      <td>3</td>\n",
              "      <td>US</td>\n",
              "      <td>Wholesale Trade</td>\n",
              "      <td>Material Moving Workers</td>\n",
              "      <td>29,869.345</td>\n",
              "      <td>36,784.337</td>\n",
              "      <td>51,971.205</td>\n",
              "      <td>68,492.690</td>\n",
              "      <td>85,481.394</td>\n",
              "    </tr>\n",
              "    <tr>\n",
              "      <th>4</th>\n",
              "      <td>4</td>\n",
              "      <td>4</td>\n",
              "      <td>US</td>\n",
              "      <td>Other Services (except Public Administration)</td>\n",
              "      <td>Supervisors of Building and Grounds Cleaning a...</td>\n",
              "      <td>32,689.205</td>\n",
              "      <td>42,292.992</td>\n",
              "      <td>57,668.323</td>\n",
              "      <td>73,933.582</td>\n",
              "      <td>91,416.546</td>\n",
              "    </tr>\n",
              "  </tbody>\n",
              "</table>\n",
              "</div>"
            ],
            "text/plain": [
              "   Unnamed: 0  Unnamed: 0.1 PRIM_STATE  \\\n",
              "0           0             0         US   \n",
              "1           1             1         NE   \n",
              "2           2             2         US   \n",
              "3           3             3         US   \n",
              "4           4             4         US   \n",
              "\n",
              "                                     NAICS_TITLE  \\\n",
              "0                Accommodation and Food Services   \n",
              "1                                 Cross-industry   \n",
              "2                                  Manufacturing   \n",
              "3                                Wholesale Trade   \n",
              "4  Other Services (except Public Administration)   \n",
              "\n",
              "                                           OCC_TITLE    A_PCT10    A_PCT25  \\\n",
              "0                       Other Production Occupations 32,243.239 40,746.801   \n",
              "1  Arts, Design, Entertainment, Sports, and Media... 28,177.123 34,220.980   \n",
              "2            Construction and Extraction Occupations 33,951.418 42,953.995   \n",
              "3                            Material Moving Workers 29,869.345 36,784.337   \n",
              "4  Supervisors of Building and Grounds Cleaning a... 32,689.205 42,292.992   \n",
              "\n",
              "    A_MEDIAN    A_PCT75    A_PCT90  \n",
              "0 55,730.007 71,501.710 92,225.616  \n",
              "1 45,491.970 62,500.150 80,586.798  \n",
              "2 58,035.727 73,297.065 88,839.766  \n",
              "3 51,971.205 68,492.690 85,481.394  \n",
              "4 57,668.323 73,933.582 91,416.546  "
            ]
          },
          "execution_count": 14,
          "metadata": {},
          "output_type": "execute_result"
        }
      ],
      "source": [
        "df_sub = pd.read_csv('submission1.csv')\n",
        "df_sub.head(5)"
      ]
    },
    {
      "cell_type": "markdown",
      "id": "d4988286",
      "metadata": {
        "id": "d4988286"
      },
      "source": [
        "Selecting the Independent Attributes and assigning it to X_sub"
      ]
    },
    {
      "cell_type": "code",
      "execution_count": null,
      "id": "8b8cdaef",
      "metadata": {
        "id": "8b8cdaef",
        "outputId": "4958f9f4-1732-40f2-963e-76fb4691cb64"
      },
      "outputs": [
        {
          "data": {
            "text/html": [
              "<div>\n",
              "<style scoped>\n",
              "    .dataframe tbody tr th:only-of-type {\n",
              "        vertical-align: middle;\n",
              "    }\n",
              "\n",
              "    .dataframe tbody tr th {\n",
              "        vertical-align: top;\n",
              "    }\n",
              "\n",
              "    .dataframe thead th {\n",
              "        text-align: right;\n",
              "    }\n",
              "</style>\n",
              "<table border=\"1\" class=\"dataframe\">\n",
              "  <thead>\n",
              "    <tr style=\"text-align: right;\">\n",
              "      <th></th>\n",
              "      <th>PRIM_STATE</th>\n",
              "      <th>NAICS_TITLE</th>\n",
              "      <th>OCC_TITLE</th>\n",
              "    </tr>\n",
              "  </thead>\n",
              "  <tbody>\n",
              "    <tr>\n",
              "      <th>0</th>\n",
              "      <td>US</td>\n",
              "      <td>Accommodation and Food Services</td>\n",
              "      <td>Other Production Occupations</td>\n",
              "    </tr>\n",
              "    <tr>\n",
              "      <th>1</th>\n",
              "      <td>NE</td>\n",
              "      <td>Cross-industry</td>\n",
              "      <td>Arts, Design, Entertainment, Sports, and Media...</td>\n",
              "    </tr>\n",
              "    <tr>\n",
              "      <th>2</th>\n",
              "      <td>US</td>\n",
              "      <td>Manufacturing</td>\n",
              "      <td>Construction and Extraction Occupations</td>\n",
              "    </tr>\n",
              "    <tr>\n",
              "      <th>3</th>\n",
              "      <td>US</td>\n",
              "      <td>Wholesale Trade</td>\n",
              "      <td>Material Moving Workers</td>\n",
              "    </tr>\n",
              "    <tr>\n",
              "      <th>4</th>\n",
              "      <td>US</td>\n",
              "      <td>Other Services (except Public Administration)</td>\n",
              "      <td>Supervisors of Building and Grounds Cleaning a...</td>\n",
              "    </tr>\n",
              "  </tbody>\n",
              "</table>\n",
              "</div>"
            ],
            "text/plain": [
              "  PRIM_STATE                                    NAICS_TITLE  \\\n",
              "0         US                Accommodation and Food Services   \n",
              "1         NE                                 Cross-industry   \n",
              "2         US                                  Manufacturing   \n",
              "3         US                                Wholesale Trade   \n",
              "4         US  Other Services (except Public Administration)   \n",
              "\n",
              "                                           OCC_TITLE  \n",
              "0                       Other Production Occupations  \n",
              "1  Arts, Design, Entertainment, Sports, and Media...  \n",
              "2            Construction and Extraction Occupations  \n",
              "3                            Material Moving Workers  \n",
              "4  Supervisors of Building and Grounds Cleaning a...  "
            ]
          },
          "execution_count": 15,
          "metadata": {},
          "output_type": "execute_result"
        }
      ],
      "source": [
        "X_sub = df_sub[[\"PRIM_STATE\", \"NAICS_TITLE\", \"OCC_TITLE\"]]\n",
        "X_sub.head(5)"
      ]
    },
    {
      "cell_type": "markdown",
      "id": "587e4a57",
      "metadata": {
        "id": "587e4a57"
      },
      "source": [
        "### Transforming the Independent Attributes with the same Encoder which is used while training the Model\n",
        "The Model is already train using the encoded Attributes and the same encoding of attributes is required for making prediction."
      ]
    },
    {
      "cell_type": "code",
      "execution_count": null,
      "id": "4b052918",
      "metadata": {
        "id": "4b052918",
        "outputId": "740630c2-04b1-4391-916e-49a851bc4df8"
      },
      "outputs": [
        {
          "name": "stdout",
          "output_type": "stream",
          "text": [
            "Shape => Rows: 926 and Columns: 3\n"
          ]
        },
        {
          "data": {
            "text/html": [
              "<div>\n",
              "<style scoped>\n",
              "    .dataframe tbody tr th:only-of-type {\n",
              "        vertical-align: middle;\n",
              "    }\n",
              "\n",
              "    .dataframe tbody tr th {\n",
              "        vertical-align: top;\n",
              "    }\n",
              "\n",
              "    .dataframe thead th {\n",
              "        text-align: right;\n",
              "    }\n",
              "</style>\n",
              "<table border=\"1\" class=\"dataframe\">\n",
              "  <thead>\n",
              "    <tr style=\"text-align: right;\">\n",
              "      <th></th>\n",
              "      <th>PRIM_STATE</th>\n",
              "      <th>NAICS_TITLE</th>\n",
              "      <th>OCC_TITLE</th>\n",
              "    </tr>\n",
              "  </thead>\n",
              "  <tbody>\n",
              "    <tr>\n",
              "      <th>0</th>\n",
              "      <td>57,973.044</td>\n",
              "      <td>43,869.420</td>\n",
              "      <td>42,731.667</td>\n",
              "    </tr>\n",
              "    <tr>\n",
              "      <th>1</th>\n",
              "      <td>58,884.167</td>\n",
              "      <td>53,241.469</td>\n",
              "      <td>51,948.958</td>\n",
              "    </tr>\n",
              "    <tr>\n",
              "      <th>2</th>\n",
              "      <td>57,973.044</td>\n",
              "      <td>63,444.937</td>\n",
              "      <td>50,937.600</td>\n",
              "    </tr>\n",
              "    <tr>\n",
              "      <th>3</th>\n",
              "      <td>57,973.044</td>\n",
              "      <td>60,310.000</td>\n",
              "      <td>34,665.000</td>\n",
              "    </tr>\n",
              "    <tr>\n",
              "      <th>4</th>\n",
              "      <td>57,973.044</td>\n",
              "      <td>50,927.765</td>\n",
              "      <td>50,312.727</td>\n",
              "    </tr>\n",
              "  </tbody>\n",
              "</table>\n",
              "</div>"
            ],
            "text/plain": [
              "   PRIM_STATE  NAICS_TITLE  OCC_TITLE\n",
              "0  57,973.044   43,869.420 42,731.667\n",
              "1  58,884.167   53,241.469 51,948.958\n",
              "2  57,973.044   63,444.937 50,937.600\n",
              "3  57,973.044   60,310.000 34,665.000\n",
              "4  57,973.044   50,927.765 50,312.727"
            ]
          },
          "execution_count": 16,
          "metadata": {},
          "output_type": "execute_result"
        }
      ],
      "source": [
        "# Transform the categorical attributes given in submission file\n",
        "df_sub_X = encoder.ReturnTransformData(df_sub['PRIM_STATE'], df_sub['NAICS_TITLE'], df_sub['OCC_TITLE'])\n",
        "print('Shape => Rows:', df_sub_X.shape[0], 'and Columns:', df_sub_X.shape[1])\n",
        "df_sub_X.head(5)"
      ]
    },
    {
      "cell_type": "markdown",
      "id": "95c1f385",
      "metadata": {
        "id": "95c1f385"
      },
      "source": [
        "### Making Predictions"
      ]
    },
    {
      "cell_type": "code",
      "execution_count": null,
      "id": "2fdd63d3",
      "metadata": {
        "id": "2fdd63d3",
        "outputId": "ca2daba0-8094-4d6e-b98d-ef1a9915d995"
      },
      "outputs": [
        {
          "data": {
            "text/plain": [
              "array([[32243.23860991, 40746.80145743, 55730.0074026 , 71501.70962482,\n",
              "        92225.61564214],\n",
              "       [28177.12280423, 34220.97960317, 45491.96960317, 62500.14968254,\n",
              "        80586.79756614],\n",
              "       [33951.41831835, 42953.99473175, 58035.7268291 , 73297.06535058,\n",
              "        88839.76559922],\n",
              "       [29869.34537074, 36784.33666833, 51971.20488437, 68492.68984293,\n",
              "        85481.39418396],\n",
              "       [32689.20534447, 42292.99190865, 57668.32281644, 73933.58174418,\n",
              "        91416.54584157]])"
            ]
          },
          "execution_count": 17,
          "metadata": {},
          "output_type": "execute_result"
        }
      ],
      "source": [
        "subrY = model.predict(df_sub_X.values)\n",
        "\n",
        "# Display first 5 predicted value\n",
        "subrY[:5,:]"
      ]
    },
    {
      "cell_type": "markdown",
      "id": "75e29a84",
      "metadata": {
        "id": "75e29a84"
      },
      "source": [
        "### Replace the dependent Attributes Values in Submission File"
      ]
    },
    {
      "cell_type": "code",
      "execution_count": null,
      "id": "bd34286a",
      "metadata": {
        "id": "bd34286a",
        "outputId": "a3e6fdc8-8f6a-42ab-ed2e-880dbb903b5f"
      },
      "outputs": [
        {
          "data": {
            "text/html": [
              "<div>\n",
              "<style scoped>\n",
              "    .dataframe tbody tr th:only-of-type {\n",
              "        vertical-align: middle;\n",
              "    }\n",
              "\n",
              "    .dataframe tbody tr th {\n",
              "        vertical-align: top;\n",
              "    }\n",
              "\n",
              "    .dataframe thead th {\n",
              "        text-align: right;\n",
              "    }\n",
              "</style>\n",
              "<table border=\"1\" class=\"dataframe\">\n",
              "  <thead>\n",
              "    <tr style=\"text-align: right;\">\n",
              "      <th></th>\n",
              "      <th>A_PCT10</th>\n",
              "      <th>A_PCT25</th>\n",
              "      <th>A_MEDIAN</th>\n",
              "      <th>A_PCT75</th>\n",
              "      <th>A_PCT90</th>\n",
              "    </tr>\n",
              "  </thead>\n",
              "  <tbody>\n",
              "    <tr>\n",
              "      <th>0</th>\n",
              "      <td>32,243.239</td>\n",
              "      <td>40,746.801</td>\n",
              "      <td>55,730.007</td>\n",
              "      <td>71,501.710</td>\n",
              "      <td>92,225.616</td>\n",
              "    </tr>\n",
              "    <tr>\n",
              "      <th>1</th>\n",
              "      <td>28,177.123</td>\n",
              "      <td>34,220.980</td>\n",
              "      <td>45,491.970</td>\n",
              "      <td>62,500.150</td>\n",
              "      <td>80,586.798</td>\n",
              "    </tr>\n",
              "    <tr>\n",
              "      <th>2</th>\n",
              "      <td>33,951.418</td>\n",
              "      <td>42,953.995</td>\n",
              "      <td>58,035.727</td>\n",
              "      <td>73,297.065</td>\n",
              "      <td>88,839.766</td>\n",
              "    </tr>\n",
              "    <tr>\n",
              "      <th>3</th>\n",
              "      <td>29,869.345</td>\n",
              "      <td>36,784.337</td>\n",
              "      <td>51,971.205</td>\n",
              "      <td>68,492.690</td>\n",
              "      <td>85,481.394</td>\n",
              "    </tr>\n",
              "    <tr>\n",
              "      <th>4</th>\n",
              "      <td>32,689.205</td>\n",
              "      <td>42,292.992</td>\n",
              "      <td>57,668.323</td>\n",
              "      <td>73,933.582</td>\n",
              "      <td>91,416.546</td>\n",
              "    </tr>\n",
              "  </tbody>\n",
              "</table>\n",
              "</div>"
            ],
            "text/plain": [
              "     A_PCT10    A_PCT25   A_MEDIAN    A_PCT75    A_PCT90\n",
              "0 32,243.239 40,746.801 55,730.007 71,501.710 92,225.616\n",
              "1 28,177.123 34,220.980 45,491.970 62,500.150 80,586.798\n",
              "2 33,951.418 42,953.995 58,035.727 73,297.065 88,839.766\n",
              "3 29,869.345 36,784.337 51,971.205 68,492.690 85,481.394\n",
              "4 32,689.205 42,292.992 57,668.323 73,933.582 91,416.546"
            ]
          },
          "execution_count": 18,
          "metadata": {},
          "output_type": "execute_result"
        }
      ],
      "source": [
        "# Default Values gievn in the dataset\n",
        "df_sub[[\"A_PCT10\", \"A_PCT25\", \"A_MEDIAN\", \"A_PCT75\", \"A_PCT90\"]].head()"
      ]
    },
    {
      "cell_type": "code",
      "execution_count": null,
      "id": "7ff8e200",
      "metadata": {
        "id": "7ff8e200",
        "outputId": "a79aa884-7596-44d9-ccb0-7d5818f004e8"
      },
      "outputs": [
        {
          "data": {
            "text/html": [
              "<div>\n",
              "<style scoped>\n",
              "    .dataframe tbody tr th:only-of-type {\n",
              "        vertical-align: middle;\n",
              "    }\n",
              "\n",
              "    .dataframe tbody tr th {\n",
              "        vertical-align: top;\n",
              "    }\n",
              "\n",
              "    .dataframe thead th {\n",
              "        text-align: right;\n",
              "    }\n",
              "</style>\n",
              "<table border=\"1\" class=\"dataframe\">\n",
              "  <thead>\n",
              "    <tr style=\"text-align: right;\">\n",
              "      <th></th>\n",
              "      <th>A_PCT10</th>\n",
              "      <th>A_PCT25</th>\n",
              "      <th>A_MEDIAN</th>\n",
              "      <th>A_PCT75</th>\n",
              "      <th>A_PCT90</th>\n",
              "    </tr>\n",
              "  </thead>\n",
              "  <tbody>\n",
              "    <tr>\n",
              "      <th>0</th>\n",
              "      <td>32,243.239</td>\n",
              "      <td>40,746.801</td>\n",
              "      <td>55,730.007</td>\n",
              "      <td>71,501.710</td>\n",
              "      <td>92,225.616</td>\n",
              "    </tr>\n",
              "    <tr>\n",
              "      <th>1</th>\n",
              "      <td>28,177.123</td>\n",
              "      <td>34,220.980</td>\n",
              "      <td>45,491.970</td>\n",
              "      <td>62,500.150</td>\n",
              "      <td>80,586.798</td>\n",
              "    </tr>\n",
              "    <tr>\n",
              "      <th>2</th>\n",
              "      <td>33,951.418</td>\n",
              "      <td>42,953.995</td>\n",
              "      <td>58,035.727</td>\n",
              "      <td>73,297.065</td>\n",
              "      <td>88,839.766</td>\n",
              "    </tr>\n",
              "    <tr>\n",
              "      <th>3</th>\n",
              "      <td>29,869.345</td>\n",
              "      <td>36,784.337</td>\n",
              "      <td>51,971.205</td>\n",
              "      <td>68,492.690</td>\n",
              "      <td>85,481.394</td>\n",
              "    </tr>\n",
              "    <tr>\n",
              "      <th>4</th>\n",
              "      <td>32,689.205</td>\n",
              "      <td>42,292.992</td>\n",
              "      <td>57,668.323</td>\n",
              "      <td>73,933.582</td>\n",
              "      <td>91,416.546</td>\n",
              "    </tr>\n",
              "  </tbody>\n",
              "</table>\n",
              "</div>"
            ],
            "text/plain": [
              "     A_PCT10    A_PCT25   A_MEDIAN    A_PCT75    A_PCT90\n",
              "0 32,243.239 40,746.801 55,730.007 71,501.710 92,225.616\n",
              "1 28,177.123 34,220.980 45,491.970 62,500.150 80,586.798\n",
              "2 33,951.418 42,953.995 58,035.727 73,297.065 88,839.766\n",
              "3 29,869.345 36,784.337 51,971.205 68,492.690 85,481.394\n",
              "4 32,689.205 42,292.992 57,668.323 73,933.582 91,416.546"
            ]
          },
          "execution_count": 19,
          "metadata": {},
          "output_type": "execute_result"
        }
      ],
      "source": [
        "# Replacing the given values with the predicted value \n",
        "df_sub[[\"A_PCT10\", \"A_PCT25\", \"A_MEDIAN\", \"A_PCT75\", \"A_PCT90\"]] = subrY\n",
        "df_sub[[\"A_PCT10\", \"A_PCT25\", \"A_MEDIAN\", \"A_PCT75\", \"A_PCT90\"]].head()"
      ]
    },
    {
      "cell_type": "markdown",
      "id": "450bed45",
      "metadata": {
        "id": "450bed45"
      },
      "source": [
        "### Saving the Predicted Outcome"
      ]
    },
    {
      "cell_type": "code",
      "execution_count": null,
      "id": "88964a40",
      "metadata": {
        "id": "88964a40"
      },
      "outputs": [],
      "source": [
        "# df_sub.to_csv()\n",
        "df_sub.to_csv('submission1.csv')"
      ]
    }
  ],
  "metadata": {
    "colab": {
      "provenance": []
    },
    "kernelspec": {
      "display_name": "Python 3.10.0 64-bit",
      "language": "python",
      "name": "python3"
    },
    "language_info": {
      "codemirror_mode": {
        "name": "ipython",
        "version": 3
      },
      "file_extension": ".py",
      "mimetype": "text/x-python",
      "name": "python",
      "nbconvert_exporter": "python",
      "pygments_lexer": "ipython3",
      "version": "3.10.0"
    },
    "vscode": {
      "interpreter": {
        "hash": "330e58afc587702f8df1e7ef6c27b862d182845f86ee8cd9319f519b8e616f45"
      }
    }
  },
  "nbformat": 4,
  "nbformat_minor": 5
}
